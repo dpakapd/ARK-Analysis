{
 "cells": [
  {
   "cell_type": "code",
   "execution_count": 2,
   "metadata": {},
   "outputs": [
    {
     "name": "stdout",
     "output_type": "stream",
     "text": [
      "                 Open       High        Low      Close  Adj Close  Volume\n",
      "Date                                                                     \n",
      "2016-03-17  18.230000  18.250000  18.230000  18.250000  17.321312    2800\n",
      "2016-03-18  18.450001  18.520000  18.450001  18.510000  17.568083     900\n",
      "2016-03-21  18.610001  18.610001  18.610001  18.610001  17.662992     100\n",
      "2016-03-22  18.580000  18.684000  18.580000  18.684000  17.733227    1200\n",
      "2016-03-23  18.379999  18.379999  18.379999  18.379999  17.444696     100\n"
     ]
    },
    {
     "data": {
      "text/plain": [
       "<AxesSubplot:label='56222c7b-80f6-4430-859c-2db7b9fb0291'>"
      ]
     },
     "execution_count": 2,
     "metadata": {},
     "output_type": "execute_result"
    },
    {
     "data": {
      "image/png": "[encoded data removed]",
      "text/plain": [
       "<Figure size 432x288 with 2 Axes>"
      ]
     },
     "metadata": {
      "needs_background": "light"
     },
     "output_type": "display_data"
    }
   ],
   "source": [
    "import pandas as pd\n",
    "import numpy as np\n",
    "from matplotlib import pyplot as plt\n",
    "\n",
    "file_path = \"R:/Coursera/Investment Mgmt/ARKQ Analysis/\"\n",
    "\n",
    "def stock_data(ticker):\n",
    "    user_ticker = file_path+ticker+\".csv\"\n",
    "    return pd.read_csv(user_ticker,header = 0, index_col=0,parse_dates=True) #Inputting data\n",
    "\n",
    "arkq = stock_data(\"ARKQ\")\n",
    "arkw = stock_data(\"ARKW\")\n",
    "\n",
    "print(arkq.head())\n",
    "\n",
    "arkq = arkq[['Close','Volume']]\n",
    "arkw = arkw[['Close','Volume']]\n",
    "\n",
    "\n",
    "\n",
    "#dt = pd.date_range(start = '2016-01',end='2020-12',freq='D')\n",
    "#print(dt)\n",
    "#ark_total = [arkq['Volume'],arkw['Volume']]\n",
    "#ark_data = pd.DataFrame(data={'Volume': ark_total},index=dt)\n",
    "\n",
    "arkq.columns = ['Open','Close','ARKQ']\n",
    "arkw.columns = ['Open','Close','ARKW']\n",
    "\n",
    "arkq['ARKQ'].plot.line(yticks=range(0,4500000,500000),legend=True)\n",
    "arkw['ARKW'].plot(secondary_y=True,style='r',legend=True)"
   ]
  },
  {
   "cell_type": "code",
   "execution_count": 5,
   "metadata": {},
   "outputs": [
    {
     "name": "stdout",
     "output_type": "stream",
     "text": [
      "                 Open       High        Low      Close  Adj Close  Volume\n",
      "Date                                                                     \n",
      "2016-01-04  62.930000  63.689999  61.750000  63.220001  63.220001  230200\n",
      "2016-01-05  62.939999  63.900002  62.549999  63.650002  63.650002  154000\n",
      "2016-01-06  63.020000  64.070000  62.689999  63.139999  63.139999  263900\n",
      "2016-01-07  61.830002  62.840000  61.740002  62.320000  62.320000  181400\n",
      "2016-01-08  62.590000  62.590000  59.619999  60.650002  60.650002  291400\n",
      "The % return is:\n",
      " 142.6447193507637\n",
      "\n",
      "Total returns of  PRLB  between  2016  and  2020  is:\n",
      " 6066.12\n"
     ]
    }
   ],
   "source": [
    "#Returns of Top 5 holdings\n",
    "\n",
    "import pandas as pd\n",
    "import numpy as np\n",
    "from matplotlib import pyplot as plt\n",
    "\n",
    "file_path = \"Enter your file path here\"\n",
    "\n",
    "def stock_analyzer(ticker,amount,year_start,year_end):\n",
    "    user_ticker = file_path+ticker+\".csv\"\n",
    "    tick_data = pd.read_csv(user_ticker,header = 0, index_col=0,parse_dates=True) #Inputting data\n",
    "    print(tick_data.head())\n",
    "    \n",
    "    tick_data = tick_data[['Close', 'Volume']] #Extracting only the columns I need, i.e. opening price, closing price and of course Index\n",
    "    \n",
    "    #Converting Year information to string to access it in dataframe\n",
    "    year_end = str(year_end)\n",
    "    year_start = str(year_start)\n",
    "    \n",
    "    #Calculating total returns (Close(year-end)-Close(Year-start)/Close(Year-start))\n",
    "    total_returns = ((tick_data[year_end]['Close'].iloc[-1]-tick_data[year_start]['Close'].iloc[0])/\n",
    "                     tick_data[year_start]['Close'].iloc[0])\n",
    "    \n",
    "    #Let's print total returns in %\n",
    "    print(\"The % return is:\\n\",total_returns*100)\n",
    "    \n",
    "    #Total returns by $ value = Amount x (1+%return)\n",
    "    total_returns = round(amount*(1+total_returns),2)\n",
    "    return total_returns,ticker,year_start,year_end\n",
    "\n",
    "\n",
    "total_returns,ticker,year_start,year_end = stock_analyzer(\"PRLB\",2500,2016,2020)\n",
    "\n",
    "print(\"\\nTotal returns of \",ticker,\" between \",year_start,\" and \",year_end, \" is:\\n\",total_returns)"
   ]
  },
  {
   "cell_type": "code",
   "execution_count": null,
   "metadata": {},
   "outputs": [],
   "source": [
    "import pandas as pd\n",
    "\n"
   ]
  }
 ],
 "metadata": {
  "kernelspec": {
   "display_name": "Python 3",
   "language": "python",
   "name": "python3"
  },
  "language_info": {
   "codemirror_mode": {
    "name": "ipython",
    "version": 3
   },
   "file_extension": ".py",
   "mimetype": "text/x-python",
   "name": "python",
   "nbconvert_exporter": "python",
   "pygments_lexer": "ipython3",
   "version": "3.8.5"
  }
 },
 "nbformat": 4,
 "nbformat_minor": 4
}
